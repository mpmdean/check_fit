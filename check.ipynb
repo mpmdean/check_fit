{
 "cells": [
  {
   "cell_type": "code",
   "execution_count": 1,
   "id": "641884ef-457e-4eac-84da-a1b3155cec31",
   "metadata": {},
   "outputs": [],
   "source": [
    "import numpy as np\n",
    "import matplotlib.pyplot as plt\n",
    "import lmfit\n",
    "from analysis_functions import paramagnon, lorz\n",
    "\n"
   ]
  },
  {
   "cell_type": "code",
   "execution_count": 5,
   "id": "70bfc353-b9bc-4390-9d36-f1ba75952bd1",
   "metadata": {},
   "outputs": [
    {
     "name": "stdout",
     "output_type": "stream",
     "text": [
      "[[Model]]\n",
      "    Model(paramagnon)\n",
      "[[Fit Statistics]]\n",
      "    # fitting method   = leastsq\n",
      "    # function evals   = 36\n",
      "    # data points      = 500\n",
      "    # variables        = 4\n",
      "    chi-square         = 3.2026e-29\n",
      "    reduced chi-square = 6.4569e-32\n",
      "    Akaike info crit   = -35904.8059\n",
      "    Bayesian info crit = -35887.9475\n",
      "    R-squared          = 1.00000000\n",
      "[[Variables]]\n",
      "    amplitude:  0.28977865 +/- 9.9024e-18 (0.00%) (init = 1)\n",
      "    center:     0.36249138 +/- 6.0675e-18 (0.00%) (init = 0.33)\n",
      "    sigma:      0.30000000 +/- 3.0507e-17 (0.00%) (init = 0.1)\n",
      "    res:        0.03609618 +/- 2.4349e-17 (0.00%) (init = 0.1)\n",
      "    kBT:        0.0017234 (fixed)\n",
      "[[Correlations]] (unreported correlations are < 0.100)\n",
      "    C(sigma, res)        = -0.908\n",
      "    C(center, sigma)     = 0.843\n",
      "    C(amplitude, sigma)  = 0.832\n",
      "    C(center, res)       = -0.787\n",
      "    C(amplitude, center) = 0.687\n",
      "    C(amplitude, res)    = -0.642\n"
     ]
    },
    {
     "data": {
      "image/png": "[encoded data removed]",
      "text/plain": [
       "<Figure size 432x288 with 1 Axes>"
      ]
     },
     "metadata": {
      "needs_background": "light"
     },
     "output_type": "display_data"
    }
   ],
   "source": [
    "x = np.linspace(-.3, 1.5, 500)\n",
    "center = 0.33\n",
    "amplitude = 1\n",
    "sigma = .3/2  #HWHM\n",
    "res = 0.085/(2*np.sqrt(2*np.log(2)))\n",
    "kBT = 20*8.617e-5\n",
    "\n",
    "y = lorz(x, amplitude=amplitude, center=center, sigma=sigma, kBT=kBT, res=res)\n",
    "magmodel = lmfit.Model(paramagnon)\n",
    "params = magmodel.make_params()\n",
    "params['kBT'].set(value=kBT, vary=False)\n",
    "params['center'].set(min=.001, value=center)\n",
    "\n",
    "result = magmodel.fit(y, x=x, params=params)\n",
    "\n",
    "result.plot_fit()\n",
    "\n",
    "print(result.fit_report())"
   ]
  },
  {
   "cell_type": "code",
   "execution_count": 3,
   "id": "12973277-2211-4a4b-b577-68bb0f3828c7",
   "metadata": {},
   "outputs": [
    {
     "data": {
      "text/html": [
       "<table><tr><th> name </th><th> value </th><th> initial value </th><th> min </th><th> max </th><th> vary </th></tr><tr><td> amplitude </td><td>  1.00000000 </td><td> None </td><td>        -inf </td><td>         inf </td><td> True </td></tr><tr><td> center </td><td>  0.33000000 </td><td> None </td><td>  1.0000e-03 </td><td>         inf </td><td> True </td></tr><tr><td> sigma </td><td>  0.10000000 </td><td> None </td><td>        -inf </td><td>         inf </td><td> True </td></tr><tr><td> res </td><td>  0.10000000 </td><td> None </td><td>        -inf </td><td>         inf </td><td> True </td></tr><tr><td> kBT </td><td>  0.00172340 </td><td> None </td><td>        -inf </td><td>         inf </td><td> False </td></tr></table>"
      ],
      "text/plain": [
       "Parameters([('amplitude', <Parameter 'amplitude', value=1, bounds=[-inf:inf]>), ('center', <Parameter 'center', value=0.33, bounds=[0.001:inf]>), ('sigma', <Parameter 'sigma', value=0.1, bounds=[-inf:inf]>), ('res', <Parameter 'res', value=0.1, bounds=[-inf:inf]>), ('kBT', <Parameter 'kBT', value=0.0017234 (fixed), bounds=[-inf:inf]>)])"
      ]
     },
     "execution_count": 3,
     "metadata": {},
     "output_type": "execute_result"
    }
   ],
   "source": [
    "params"
   ]
  },
  {
   "cell_type": "code",
   "execution_count": null,
   "id": "8a80dad9-016b-424e-a2c9-e689cf7bf0cb",
   "metadata": {},
   "outputs": [],
   "source": []
  }
 ],
 "metadata": {
  "kernelspec": {
   "display_name": "Python 3 (ipykernel)",
   "language": "python",
   "name": "python3"
  },
  "language_info": {
   "codemirror_mode": {
    "name": "ipython",
    "version": 3
   },
   "file_extension": ".py",
   "mimetype": "text/x-python",
   "name": "python",
   "nbconvert_exporter": "python",
   "pygments_lexer": "ipython3",
   "version": "3.10.3"
  }
 },
 "nbformat": 4,
 "nbformat_minor": 5
}
